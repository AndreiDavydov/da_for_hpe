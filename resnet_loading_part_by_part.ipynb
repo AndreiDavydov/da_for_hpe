{
 "cells": [
  {
   "cell_type": "code",
   "execution_count": 5,
   "metadata": {},
   "outputs": [],
   "source": [
    "from resnet.resnet import resnet50\n",
    "import torch as th"
   ]
  },
  {
   "cell_type": "code",
   "execution_count": 6,
   "metadata": {},
   "outputs": [
    {
     "data": {
      "text/plain": [
       "<All keys matched successfully>"
      ]
     },
     "execution_count": 6,
     "metadata": {},
     "output_type": "execute_result"
    }
   ],
   "source": [
    "rn50 = resnet50()\n",
    "rn50.load_state_dict(th.load('./resnet/resnet50.pth'))"
   ]
  },
  {
   "cell_type": "code",
   "execution_count": 16,
   "metadata": {},
   "outputs": [
    {
     "name": "stdout",
     "output_type": "stream",
     "text": [
      "0 torch.Size([1, 64, 112, 112])\n",
      "1 torch.Size([1, 64, 112, 112])\n",
      "2 torch.Size([1, 64, 112, 112])\n",
      "3 torch.Size([1, 64, 56, 56])\n",
      "4 torch.Size([1, 256, 56, 56])\n",
      "5 torch.Size([1, 512, 28, 28])\n",
      "6 torch.Size([1, 1024, 14, 14])\n",
      "7 torch.Size([1, 2048, 7, 7])\n",
      "8 torch.Size([1, 2048, 1, 1])\n",
      "smsht\n"
     ]
    }
   ],
   "source": [
    "layers = rn50.named_children()\n",
    "\n",
    "x = th.randn((1,3,224,224))\n",
    "for i, layer in enumerate(layers):\n",
    "    try:\n",
    "        x = layer[1](x)\n",
    "        print(i, x.size())\n",
    "    except:\n",
    "        print('smsht')"
   ]
  },
  {
   "cell_type": "code",
   "execution_count": 31,
   "metadata": {},
   "outputs": [
    {
     "data": {
      "text/plain": [
       "ModuleList()"
      ]
     },
     "execution_count": 31,
     "metadata": {},
     "output_type": "execute_result"
    }
   ],
   "source": [
    "l"
   ]
  },
  {
   "cell_type": "code",
   "execution_count": 25,
   "metadata": {},
   "outputs": [
    {
     "data": {
      "text/plain": [
       "[(1, 4), (2, 5), (3, 6)]"
      ]
     },
     "execution_count": 25,
     "metadata": {},
     "output_type": "execute_result"
    }
   ],
   "source": [
    "a = [1,2,3]\n",
    "b = [4,5,6]\n",
    "l = list(zip(a,b))\n",
    "l"
   ]
  },
  {
   "cell_type": "code",
   "execution_count": null,
   "metadata": {},
   "outputs": [],
   "source": []
  },
  {
   "cell_type": "code",
   "execution_count": null,
   "metadata": {},
   "outputs": [],
   "source": []
  }
 ],
 "metadata": {
  "kernelspec": {
   "display_name": "Python 3",
   "language": "python",
   "name": "python3"
  },
  "language_info": {
   "codemirror_mode": {
    "name": "ipython",
    "version": 3
   },
   "file_extension": ".py",
   "mimetype": "text/x-python",
   "name": "python",
   "nbconvert_exporter": "python",
   "pygments_lexer": "ipython3",
   "version": "3.7.4"
  }
 },
 "nbformat": 4,
 "nbformat_minor": 2
}
